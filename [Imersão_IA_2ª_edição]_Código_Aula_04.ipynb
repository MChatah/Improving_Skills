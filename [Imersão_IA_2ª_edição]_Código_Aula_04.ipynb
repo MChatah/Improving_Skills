{
  "cells": [
    {
      "cell_type": "markdown",
      "metadata": {
        "id": "view-in-github",
        "colab_type": "text"
      },
      "source": [
        "<a href=\"https://colab.research.google.com/github/MChatah/Improving_Skills/blob/main/%5BImers%C3%A3o_IA_2%C2%AA_edi%C3%A7%C3%A3o%5D_C%C3%B3digo_Aula_04.ipynb\" target=\"_parent\"><img src=\"https://colab.research.google.com/assets/colab-badge.svg\" alt=\"Open In Colab\"/></a>"
      ]
    },
    {
      "cell_type": "code",
      "execution_count": 11,
      "metadata": {
        "id": "nFQLKQ6hfXch"
      },
      "outputs": [],
      "source": [
        "#Instalando o SDK do Google\n",
        "!pip install -q -U google-generativeai"
      ]
    },
    {
      "cell_type": "code",
      "execution_count": 12,
      "metadata": {
        "id": "IthzwfnAfcsi"
      },
      "outputs": [],
      "source": [
        "#Configurações iniciais\n",
        "import google.generativeai as genai\n",
        "from google.colab import userdata\n",
        "api_key = userdata.get ('SECRET_KEY')\n",
        "genai.configure(api_key=api_key)"
      ]
    },
    {
      "cell_type": "code",
      "execution_count": 13,
      "metadata": {
        "colab": {
          "base_uri": "https://localhost:8080/",
          "height": 138
        },
        "id": "iD3ihugymWBt",
        "outputId": "6015b46f-9360-4194-ceeb-f2933d99e155"
      },
      "outputs": [
        {
          "output_type": "stream",
          "name": "stdout",
          "text": [
            "models/gemini-1.0-pro\n",
            "models/gemini-1.0-pro-001\n",
            "models/gemini-1.0-pro-latest\n",
            "models/gemini-1.0-pro-vision-latest\n",
            "models/gemini-1.5-pro-latest\n",
            "models/gemini-pro\n",
            "models/gemini-pro-vision\n"
          ]
        }
      ],
      "source": [
        "#Listando os modelos disponíveis\n",
        "for m in genai.list_models():\n",
        "  if 'generateContent' in m.supported_generation_methods:\n",
        "    print(m.name)"
      ]
    },
    {
      "cell_type": "code",
      "execution_count": 14,
      "metadata": {
        "id": "O1ochaeyDn_o"
      },
      "outputs": [],
      "source": [
        "generation_config = {\n",
        "  \"candidate_count\": 1,\n",
        "  \"temperature\": 0.5,\n",
        "}"
      ]
    },
    {
      "cell_type": "code",
      "execution_count": 15,
      "metadata": {
        "id": "jwBv7DofDofw"
      },
      "outputs": [],
      "source": [
        "safety_settings={\n",
        "    'HATE': 'BLOCK_NONE',\n",
        "    'HARASSMENT': 'BLOCK_NONE',\n",
        "    'SEXUAL' : 'BLOCK_NONE',\n",
        "    'DANGEROUS' : 'BLOCK_NONE'\n",
        "    }"
      ]
    },
    {
      "cell_type": "code",
      "execution_count": 16,
      "metadata": {
        "id": "NIiSs1R5mVJE"
      },
      "outputs": [],
      "source": [
        "model = genai.GenerativeModel(model_name='gemini-1.0-pro',\n",
        "                                  generation_config=generation_config,\n",
        "                                  safety_settings=safety_settings,)"
      ]
    },
    {
      "cell_type": "code",
      "execution_count": 17,
      "metadata": {
        "colab": {
          "base_uri": "https://localhost:8080/",
          "height": 53
        },
        "id": "vrRjhT2rlrU_",
        "outputId": "370fe748-c908-4699-c945-36f1fc624255"
      },
      "outputs": [
        {
          "output_type": "execute_result",
          "data": {
            "text/plain": [
              "'**Duolingo**\\n\\n* **Prós:**\\n    * Gratuito\\n    * Lições curtas e gamificadas\\n    * Grande variedade de idiomas\\n    * Comunidade ativa\\n* **Contras:**\\n    * Pode ser repetitivo para alunos avançados\\n    * Foco limitado na gramática e vocabulário avançado'"
            ],
            "application/vnd.google.colaboratory.intrinsic+json": {
              "type": "string"
            }
          },
          "metadata": {},
          "execution_count": 17
        }
      ],
      "source": [
        "response = model.generate_content(\"Cite um do melhores Cursos de Inglês online?\")\n",
        "response.text"
      ]
    },
    {
      "cell_type": "markdown",
      "source": [],
      "metadata": {
        "id": "9dM8ZlN_TcmX"
      }
    },
    {
      "cell_type": "code",
      "execution_count": null,
      "metadata": {
        "colab": {
          "base_uri": "https://localhost:8080/",
          "height": 1000
        },
        "id": "KpaQ6hm5f2_J",
        "outputId": "07916e83-565d-4474-bd42-5b7a6a5fdf3f"
      },
      "outputs": [
        {
          "output_type": "stream",
          "name": "stdout",
          "text": [
            "Esperando prompt: O que é Improving Skills?\n",
            "Resposta: **Improving Skills** é um programa de treinamento e desenvolvimento de habilidades oferecido pela plataforma Coursera.\n",
            "\n",
            "**Objetivo:**\n",
            "\n",
            "* Ajudar os alunos a desenvolver e aprimorar habilidades essenciais para sucesso profissional e pessoal.\n",
            "\n",
            "**Recursos:**\n",
            "\n",
            "* **Cursos online:** Cursos abrangentes ministrados por especialistas do setor e universidades de renome.\n",
            "* **Avaliações práticas:** Exercícios e projetos práticos para aplicar habilidades recém-adquiridas.\n",
            "* **Certificados:** Certificados reconhecidos pelo setor para demonstrar proficiência em habilidades específicas.\n",
            "* **Comunidade de aprendizagem:** Fóruns de discussão e grupos de estudo para conectar-se com colegas e especialistas.\n",
            "* **Recursos de carreira:** Orientação de carreira, oportunidades de networking e suporte para busca de emprego.\n",
            "\n",
            "**Habilidades abrangidas:**\n",
            "\n",
            "* Habilidades técnicas (por exemplo, ciência de dados, programação, marketing digital)\n",
            "* Habilidades interpessoais (por exemplo, comunicação, liderança, trabalho em equipe)\n",
            "* Habilidades de negócios (por exemplo, gerenciamento de projetos, finanças, análise de dados)\n",
            "* Habilidades pessoais (por exemplo, resolução de problemas, aprendizado contínuo, resiliência)\n",
            "\n",
            "**Benefícios:**\n",
            "\n",
            "* **Aprimoramento de habilidades:** Desenvolva e aprimore habilidades essenciais para o sucesso na carreira.\n",
            "* **Certificação reconhecida:** Obtenha certificações reconhecidas pelo setor que demonstram proficiência em habilidades específicas.\n",
            "* **Oportunidades de carreira:** Aumente suas chances de obter promoções, mudar de carreira ou iniciar seu próprio negócio.\n",
            "* **Aprendizado contínuo:** Mantenha-se atualizado com as últimas tendências e tecnologias do setor.\n",
            "* **Flexibilidade:** Aprenda no seu próprio ritmo e horário, com acesso 24 horas por dia, 7 dias por semana aos materiais do curso. \n",
            "\n",
            "\n",
            "Esperando prompt: Este curso treina para certificação?\n",
            "Resposta: **Sim, o programa Improving Skills oferece cursos que treinam para certificação.**\n",
            "\n",
            "Os cursos de certificação são projetados para fornecer aos alunos o conhecimento e as habilidades necessárias para obter certificações reconhecidas pelo setor. Esses cursos geralmente incluem:\n",
            "\n",
            "* Conteúdo abrangente e atualizado\n",
            "* Avaliações práticas e projetos\n",
            "* Orientação de especialistas do setor\n",
            "* Preparação para exames de certificação\n",
            "\n",
            "Após a conclusão bem-sucedida de um curso de certificação, os alunos podem fazer o exame de certificação correspondente. Se passarem no exame, receberão uma certificação reconhecida pelo setor que demonstra sua proficiência em uma habilidade ou área de conhecimento específica.\n",
            "\n",
            "**Exemplos de cursos de certificação oferecidos pelo programa Improving Skills:**\n",
            "\n",
            "* **Certificado Profissional em Ciência de Dados**\n",
            "* **Certificado Profissional em Gerenciamento de Projetos**\n",
            "* **Certificado Profissional em Marketing Digital**\n",
            "* **Certificado Profissional em Análise de Dados**\n",
            "* **Certificado Profissional em Liderança**\n",
            "\n",
            "Para saber mais sobre os cursos de certificação específicos oferecidos pelo programa Improving Skills, visite o site da Coursera: https://www.coursera.org/browse/professional-certificates/improving-skills \n",
            "\n",
            "\n",
            "Esperando prompt: Fim\n",
            "Resposta: Obrigado por usar meus serviços. Estou sempre aprendendo e melhorando, então não hesite em entrar em contato se tiver mais alguma dúvida ou solicitação.\n",
            "\n",
            "**Lembre-se:**\n",
            "\n",
            "* Você pode me pedir para gerar diferentes tipos de texto, como histórias, poemas, ensaios e diálogos.\n",
            "* Também posso fornecer informações sobre uma ampla gama de tópicos, incluindo ciência, história, cultura e muito mais.\n",
            "* Estou aqui para ajudá-lo com suas tarefas de escrita e pesquisa.\n",
            "\n",
            "**Dicas para aproveitar ao máximo meus serviços:**\n",
            "\n",
            "* Seja o mais específico possível em suas solicitações.\n",
            "* Forneça contexto e detalhes relevantes.\n",
            "* Revise e edite o texto gerado para garantir precisão e qualidade.\n",
            "\n",
            "**Estou ansioso para ajudá-lo em suas próximas tarefas de escrita e pesquisa!** \n",
            "\n",
            "\n"
          ]
        }
      ],
      "source": [
        "chat = model.start_chat(history=[])\n",
        "\n",
        "prompt = input('Esperando prompt: ')\n",
        "\n",
        "while prompt != \"fim\":\n",
        "  response = chat.send_message(prompt)\n",
        "  print(\"Resposta:\", response.text, '\\n\\n')\n",
        "  prompt = input('Esperando prompt: ')"
      ]
    },
    {
      "cell_type": "code",
      "source": [],
      "metadata": {
        "id": "IX5U_d8hWfik"
      },
      "execution_count": null,
      "outputs": []
    },
    {
      "cell_type": "code",
      "execution_count": null,
      "metadata": {
        "id": "XLAniTTDhHNW"
      },
      "outputs": [],
      "source": [
        "chat"
      ]
    },
    {
      "cell_type": "code",
      "execution_count": null,
      "metadata": {
        "id": "sd8mvW9KghTf"
      },
      "outputs": [],
      "source": [
        "chat.history"
      ]
    },
    {
      "cell_type": "code",
      "execution_count": null,
      "metadata": {
        "id": "dAcbPBocgzeX"
      },
      "outputs": [],
      "source": [
        "#Melhorando a visualização\n",
        "#Código disponível em https://ai.google.dev/tutorials/python_quickstart#import_packages\n",
        "import textwrap\n",
        "from IPython.display import display\n",
        "from IPython.display import Markdown\n",
        "\n",
        "def to_markdown(text):\n",
        "  text = text.replace('•', '  *')\n",
        "  return Markdown(textwrap.indent(text, '> ', predicate=lambda _: True))\n",
        "\n",
        "#Imprimindo o histórico\n",
        "for message in chat.history:\n",
        "  display(to_markdown(f'**{message.role}**: {message.parts[0].text}'))\n",
        "  print('-------------------------------------------')"
      ]
    }
  ],
  "metadata": {
    "colab": {
      "provenance": [],
      "include_colab_link": true
    },
    "kernelspec": {
      "display_name": "Python 3",
      "name": "python3"
    },
    "language_info": {
      "name": "python"
    }
  },
  "nbformat": 4,
  "nbformat_minor": 0
}